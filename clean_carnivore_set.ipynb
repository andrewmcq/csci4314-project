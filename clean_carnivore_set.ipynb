{
 "cells": [
  {
   "cell_type": "code",
   "execution_count": 1,
   "id": "74aaecc4",
   "metadata": {},
   "outputs": [
    {
     "name": "stderr",
     "output_type": "stream",
     "text": [
      "/usr/local/anaconda3/lib/python3.8/site-packages/IPython/core/interactiveshell.py:3444: DtypeWarning: Columns (15) have mixed types.Specify dtype option on import or set low_memory=False.\n",
      "  exec(code_obj, self.user_global_ns, self.user_ns)\n"
     ]
    },
    {
     "name": "stdout",
     "output_type": "stream",
     "text": [
      "<class 'pandas.core.frame.DataFrame'>\n",
      "RangeIndex: 579604 entries, 0 to 579603\n",
      "Data columns (total 18 columns):\n",
      " #   Column                           Non-Null Count   Dtype  \n",
      "---  ------                           --------------   -----  \n",
      " 0   event-id                         579604 non-null  int64  \n",
      " 1   visible                          579604 non-null  bool   \n",
      " 2   timestamp                        579604 non-null  object \n",
      " 3   location-long                    198705 non-null  float64\n",
      " 4   location-lat                     198705 non-null  float64\n",
      " 5   acceleration-raw-x               0 non-null       float64\n",
      " 6   acceleration-raw-y               0 non-null       float64\n",
      " 7   acceleration-x                   380899 non-null  float64\n",
      " 8   acceleration-y                   380899 non-null  float64\n",
      " 9   external-temperature             1361 non-null    float64\n",
      " 10  gps:fix-type                     3778 non-null    float64\n",
      " 11  gps:satellite-count              1361 non-null    float64\n",
      " 12  tag-tech-spec                    1361 non-null    float64\n",
      " 13  sensor-type                      579604 non-null  object \n",
      " 14  individual-taxon-canonical-name  579604 non-null  object \n",
      " 15  tag-local-identifier             579604 non-null  object \n",
      " 16  individual-local-identifier      579604 non-null  object \n",
      " 17  study-name                       579604 non-null  object \n",
      "dtypes: bool(1), float64(10), int64(1), object(6)\n",
      "memory usage: 75.7+ MB\n"
     ]
    }
   ],
   "source": [
    "import numpy as np\n",
    "import pandas as pd\n",
    "import matplotlib.pyplot as plt\n",
    "import statsmodels.api as sm\n",
    "from statsmodels.graphics.gofplots import qqplot_2samples\n",
    "import seaborn as sns\n",
    "import geopy.distance\n",
    "\n",
    "\n",
    "df = pd.read_csv(\"cougars_and_coyotes.csv\")\n",
    "df.info()"
   ]
  },
  {
   "cell_type": "code",
   "execution_count": 2,
   "id": "6540c166",
   "metadata": {},
   "outputs": [],
   "source": [
    "df.drop(['event-id','visible','acceleration-raw-x','acceleration-raw-y','acceleration-x','acceleration-y','external-temperature','gps:fix-type','gps:satellite-count','tag-tech-spec','sensor-type','individual-taxon-canonical-name','study-name'],axis=1,inplace=True)\n",
    "df = df.dropna(axis = 0, subset = ['location-long'])\n",
    "df = df.dropna(axis = 0, subset = ['location-lat'])"
   ]
  },
  {
   "cell_type": "code",
   "execution_count": 3,
   "id": "7fbd0a6b",
   "metadata": {},
   "outputs": [
    {
     "name": "stdout",
     "output_type": "stream",
     "text": [
      "<class 'pandas.core.frame.DataFrame'>\n",
      "Int64Index: 198705 entries, 0 to 198704\n",
      "Data columns (total 5 columns):\n",
      " #   Column                       Non-Null Count   Dtype  \n",
      "---  ------                       --------------   -----  \n",
      " 0   timestamp                    198705 non-null  object \n",
      " 1   location-long                198705 non-null  float64\n",
      " 2   location-lat                 198705 non-null  float64\n",
      " 3   tag-local-identifier         198705 non-null  object \n",
      " 4   individual-local-identifier  198705 non-null  object \n",
      "dtypes: float64(2), object(3)\n",
      "memory usage: 9.1+ MB\n"
     ]
    }
   ],
   "source": [
    "df.info()"
   ]
  },
  {
   "cell_type": "code",
   "execution_count": 4,
   "id": "233b60b7",
   "metadata": {},
   "outputs": [],
   "source": [
    "identifiers = df['individual-local-identifier'].unique()\n",
    "column_names = ['Carnivore ID','Date','Step length','Turning angle','dx','dy']\n",
    "# new_df = pd.DataFrame(columns = column_names) \n",
    "\n",
    "def angle_between(p1, p2):\n",
    "    ang1 = np.arctan2(p1[0],p1[1])\n",
    "    ang2 = np.arctan2(p2[0],p2[1])\n",
    "    return np.rad2deg((ang1 - ang2) % (2 * np.pi))\n",
    "\n",
    "i=0\n",
    "new_data=[]\n",
    "for identifier in identifiers:\n",
    "    i+=1\n",
    "    name_updated = 'c' + str(i) \n",
    "    search = df.loc[df['individual-local-identifier']==identifier]\n",
    "    prev = None\n",
    "    for index, row in search.iterrows():\n",
    "        if prev is not None:\n",
    "            dx = geopy.distance.distance((prev['location-lat'],prev['location-long']), (row['location-lat'],prev['location-long'])).km\n",
    "            if prev['location-lat'] > row['location-lat']:\n",
    "                dx = dx*-1\n",
    "            dy = geopy.distance.distance((prev['location-lat'],prev['location-long']), (prev['location-lat'],row['location-long'])).km\n",
    "            if prev['location-long'] > row['location-long']:\n",
    "                dy = dy*-1\n",
    "            turning_angle = angle_between((prev['location-lat'],prev['location-long']),(row['location-lat'],row['location-long'])) #p2 curr\n",
    "            result = (name_updated,row['timestamp'],(((dx**2)+(dy**2))**0.5),turning_angle,dx,dy)\n",
    "            new_data.append(result)\n",
    "        prev = row\n",
    "        \n",
    "new_df = pd.DataFrame(new_data, columns =column_names)        "
   ]
  },
  {
   "cell_type": "code",
   "execution_count": 5,
   "id": "e31d9fd9",
   "metadata": {},
   "outputs": [],
   "source": [
    "new_df.to_csv('carnivores.csv', index=False)"
   ]
  },
  {
   "cell_type": "code",
   "execution_count": null,
   "id": "f2ebce62",
   "metadata": {},
   "outputs": [],
   "source": []
  }
 ],
 "metadata": {
  "kernelspec": {
   "display_name": "Python 3 (ipykernel)",
   "language": "python",
   "name": "python3"
  },
  "language_info": {
   "codemirror_mode": {
    "name": "ipython",
    "version": 3
   },
   "file_extension": ".py",
   "mimetype": "text/x-python",
   "name": "python",
   "nbconvert_exporter": "python",
   "pygments_lexer": "ipython3",
   "version": "3.8.3"
  }
 },
 "nbformat": 4,
 "nbformat_minor": 5
}
